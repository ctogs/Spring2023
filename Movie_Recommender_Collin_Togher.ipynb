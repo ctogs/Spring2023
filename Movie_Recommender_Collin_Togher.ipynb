{
 "cells": [
  {
   "cell_type": "code",
   "execution_count": 154,
   "id": "bb2bca55",
   "metadata": {},
   "outputs": [],
   "source": [
    "import numpy as np\n",
    "import pandas as pd\n",
    "import ast\n",
    "import math\n",
    "from datascience import *"
   ]
  },
  {
   "cell_type": "markdown",
   "id": "29f028cf",
   "metadata": {},
   "source": [
    "# Content-based Movie Recommendation System Using the Vector Space Method"
   ]
  },
  {
   "cell_type": "markdown",
   "id": "aea82aae",
   "metadata": {},
   "source": [
    "This is a personal project that will create a TV Show recommending system using the \"TMDB 5000 Movie Dataset\" data set from Kaggle. The user inputs their favorite movie into an algorithm that returns the top 10 movies that are most similar to their favorite."
   ]
  },
  {
   "cell_type": "markdown",
   "id": "be43b12a",
   "metadata": {},
   "source": [
    "## 1: The Datasets and Feature Manipulation\n",
    "\n",
    "I'll be using two datasets: movies and credits.\n",
    "\n",
    "I'll be focusing on recommending a movie based on these features: cast, crew, keywords, genres."
   ]
  },
  {
   "cell_type": "code",
   "execution_count": 3,
   "id": "2af23509",
   "metadata": {},
   "outputs": [
    {
     "data": {
      "text/html": [
       "<table border=\"1\" class=\"dataframe\">\n",
       "    <thead>\n",
       "        <tr>\n",
       "            <th>budget</th> <th>genres</th> <th>homepage</th> <th>id</th> <th>keywords</th> <th>original_language</th> <th>original_title</th> <th>overview</th> <th>popularity</th> <th>production_companies</th> <th>production_countries</th> <th>release_date</th> <th>revenue</th> <th>runtime</th> <th>spoken_languages</th> <th>status</th> <th>tagline</th> <th>title</th> <th>vote_average</th> <th>vote_count</th>\n",
       "        </tr>\n",
       "    </thead>\n",
       "    <tbody>\n",
       "        <tr>\n",
       "            <td>237000000</td> <td>[{\"id\": 28, \"name\": \"Action\"}, {\"id\": 12, \"name\": \"Adven ...</td> <td>http://www.avatarmovie.com/                 </td> <td>19995 </td> <td>[{\"id\": 1463, \"name\": \"culture clash\"}, {\"id\": 2964, \"na ...</td> <td>en               </td> <td>Avatar                                  </td> <td>In the 22nd century, a paraplegic Marine is dispatched t ...</td> <td>150.438   </td> <td>[{\"name\": \"Ingenious Film Partners\", \"id\": 289}, {\"name\" ...</td> <td>[{\"iso_3166_1\": \"US\", \"name\": \"United States of America\" ...</td> <td>2009-12-10  </td> <td>2787965087</td> <td>162    </td> <td>[{\"iso_639_1\": \"en\", \"name\": \"English\"}, {\"iso_639_1\": \" ...</td> <td>Released</td> <td>Enter the World of Pandora.                   </td> <td>Avatar                                  </td> <td>7.2         </td> <td>11800     </td>\n",
       "        </tr>\n",
       "        <tr>\n",
       "            <td>300000000</td> <td>[{\"id\": 12, \"name\": \"Adventure\"}, {\"id\": 14, \"name\": \"Fa ...</td> <td>http://disney.go.com/disneypictures/pirates/</td> <td>285   </td> <td>[{\"id\": 270, \"name\": \"ocean\"}, {\"id\": 726, \"name\": \"drug ...</td> <td>en               </td> <td>Pirates of the Caribbean: At World's End</td> <td>Captain Barbossa, long believed to be dead, has come bac ...</td> <td>139.083   </td> <td>[{\"name\": \"Walt Disney Pictures\", \"id\": 2}, {\"name\": \"Je ...</td> <td>[{\"iso_3166_1\": \"US\", \"name\": \"United States of America\"}]  </td> <td>2007-05-19  </td> <td>961000000 </td> <td>169    </td> <td>[{\"iso_639_1\": \"en\", \"name\": \"English\"}]                    </td> <td>Released</td> <td>At the end of the world, the adventure begins.</td> <td>Pirates of the Caribbean: At World's End</td> <td>6.9         </td> <td>4500      </td>\n",
       "        </tr>\n",
       "        <tr>\n",
       "            <td>245000000</td> <td>[{\"id\": 28, \"name\": \"Action\"}, {\"id\": 12, \"name\": \"Adven ...</td> <td>http://www.sonypictures.com/movies/spectre/ </td> <td>206647</td> <td>[{\"id\": 470, \"name\": \"spy\"}, {\"id\": 818, \"name\": \"based  ...</td> <td>en               </td> <td>Spectre                                 </td> <td>A cryptic message from Bond’s past sends him on a trail  ...</td> <td>107.377   </td> <td>[{\"name\": \"Columbia Pictures\", \"id\": 5}, {\"name\": \"Danja ...</td> <td>[{\"iso_3166_1\": \"GB\", \"name\": \"United Kingdom\"}, {\"iso_3 ...</td> <td>2015-10-26  </td> <td>880674609 </td> <td>148    </td> <td>[{\"iso_639_1\": \"fr\", \"name\": \"Fran\\u00e7ais\"}, {\"iso_639 ...</td> <td>Released</td> <td>A Plan No One Escapes                         </td> <td>Spectre                                 </td> <td>6.3         </td> <td>4466      </td>\n",
       "        </tr>\n",
       "    </tbody>\n",
       "</table>\n",
       "<p>... (4800 rows omitted)</p>"
      ],
      "text/plain": [
       "<IPython.core.display.HTML object>"
      ]
     },
     "metadata": {},
     "output_type": "display_data"
    }
   ],
   "source": [
    "tmdb_movies = Table.read_table(\"tmdb_5000_movies.csv\")\n",
    "tmdb_movies.show(3)"
   ]
  },
  {
   "cell_type": "code",
   "execution_count": 4,
   "id": "68c62df1",
   "metadata": {},
   "outputs": [
    {
     "data": {
      "text/html": [
       "<table border=\"1\" class=\"dataframe\">\n",
       "    <thead>\n",
       "        <tr>\n",
       "            <th>movie_id</th> <th>title</th> <th>cast</th> <th>crew</th>\n",
       "        </tr>\n",
       "    </thead>\n",
       "    <tbody>\n",
       "        <tr>\n",
       "            <td>19995   </td> <td>Avatar                                  </td> <td>[{\"cast_id\": 242, \"character\": \"Jake Sully\", \"credit_id\" ...</td> <td>[{\"credit_id\": \"52fe48009251416c750aca23\", \"department\": ...</td>\n",
       "        </tr>\n",
       "        <tr>\n",
       "            <td>285     </td> <td>Pirates of the Caribbean: At World's End</td> <td>[{\"cast_id\": 4, \"character\": \"Captain Jack Sparrow\", \"cr ...</td> <td>[{\"credit_id\": \"52fe4232c3a36847f800b579\", \"department\": ...</td>\n",
       "        </tr>\n",
       "        <tr>\n",
       "            <td>206647  </td> <td>Spectre                                 </td> <td>[{\"cast_id\": 1, \"character\": \"James Bond\", \"credit_id\":  ...</td> <td>[{\"credit_id\": \"54805967c3a36829b5002c41\", \"department\": ...</td>\n",
       "        </tr>\n",
       "    </tbody>\n",
       "</table>\n",
       "<p>... (4800 rows omitted)</p>"
      ],
      "text/plain": [
       "<IPython.core.display.HTML object>"
      ]
     },
     "metadata": {},
     "output_type": "display_data"
    }
   ],
   "source": [
    "credits = Table.read_table(\"tmdb_5000_credits.csv\")\n",
    "credits.show(3)"
   ]
  },
  {
   "cell_type": "markdown",
   "id": "161396b7",
   "metadata": {},
   "source": [
    "Joining the credits and tmdb_movies table to include all possible features."
   ]
  },
  {
   "cell_type": "code",
   "execution_count": 5,
   "id": "8bd976b2",
   "metadata": {},
   "outputs": [
    {
     "data": {
      "text/html": [
       "<table border=\"1\" class=\"dataframe\">\n",
       "    <thead>\n",
       "        <tr>\n",
       "            <th>title</th> <th>budget</th> <th>genres</th> <th>homepage</th> <th>id</th> <th>keywords</th> <th>original_language</th> <th>original_title</th> <th>overview</th> <th>popularity</th> <th>production_companies</th> <th>production_countries</th> <th>release_date</th> <th>revenue</th> <th>runtime</th> <th>spoken_languages</th> <th>status</th> <th>tagline</th> <th>vote_average</th> <th>vote_count</th> <th>movie_id</th> <th>cast</th> <th>crew</th>\n",
       "        </tr>\n",
       "    </thead>\n",
       "    <tbody>\n",
       "        <tr>\n",
       "            <td>#Horror             </td> <td>1500000 </td> <td>[{\"id\": 18, \"name\": \"Drama\"}, {\"id\": 9648, \"name\": \"Myst ...</td> <td>http://www.hashtaghorror.com/    </td> <td>301325</td> <td>[]                                                          </td> <td>de               </td> <td>#Horror             </td> <td>Inspired by actual events, a group of 12 year old girls  ...</td> <td>2.81523   </td> <td>[{\"name\": \"AST Studios\", \"id\": 75277}, {\"name\": \"Lowland ...</td> <td>[{\"iso_3166_1\": \"US\", \"name\": \"United States of America\"}]</td> <td>2015-11-20  </td> <td>0        </td> <td>90     </td> <td>[{\"iso_639_1\": \"en\", \"name\": \"English\"}, {\"iso_639_1\": \" ...</td> <td>Released</td> <td>Death is trending.                 </td> <td>3.3         </td> <td>52        </td> <td>301325  </td> <td>[{\"cast_id\": 0, \"character\": \"Alex's 12-Step Friend\", \"c ...</td> <td>[{\"credit_id\": \"545bbac70e0a261fb6002329\", \"department\": ...</td>\n",
       "        </tr>\n",
       "        <tr>\n",
       "            <td>(500) Days of Summer</td> <td>7500000 </td> <td>[{\"id\": 35, \"name\": \"Comedy\"}, {\"id\": 18, \"name\": \"Drama ...</td> <td>http://500days.com               </td> <td>19913 </td> <td>[{\"id\": 248, \"name\": \"date\"}, {\"id\": 572, \"name\": \"sex\"} ...</td> <td>en               </td> <td>(500) Days of Summer</td> <td>Tom (Joseph Gordon-Levitt), greeting-card writer and hop ...</td> <td>45.611    </td> <td>[{\"name\": \"Fox Searchlight Pictures\", \"id\": 43}, {\"name\" ...</td> <td>[{\"iso_3166_1\": \"US\", \"name\": \"United States of America\"}]</td> <td>2009-07-17  </td> <td>60722734 </td> <td>95     </td> <td>[{\"iso_639_1\": \"en\", \"name\": \"English\"}, {\"iso_639_1\": \" ...</td> <td>Released</td> <td>It was almost like falling in love.</td> <td>7.2         </td> <td>2904      </td> <td>19913   </td> <td>[{\"cast_id\": 4, \"character\": \"Tom Hansen\", \"credit_id\":  ...</td> <td>[{\"credit_id\": \"52fe47f99251416c750abaa5\", \"department\": ...</td>\n",
       "        </tr>\n",
       "        <tr>\n",
       "            <td>10 Cloverfield Lane </td> <td>15000000</td> <td>[{\"id\": 53, \"name\": \"Thriller\"}, {\"id\": 878, \"name\": \"Sc ...</td> <td>http://www.10cloverfieldlane.com/</td> <td>333371</td> <td>[{\"id\": 1930, \"name\": \"kidnapping\"}, {\"id\": 2321, \"name\" ...</td> <td>en               </td> <td>10 Cloverfield Lane </td> <td>After a car accident, Michelle awakens to find herself i ...</td> <td>53.6987   </td> <td>[{\"name\": \"Paramount Pictures\", \"id\": 4}, {\"name\": \"Bad  ...</td> <td>[{\"iso_3166_1\": \"US\", \"name\": \"United States of America\"}]</td> <td>2016-03-10  </td> <td>108286421</td> <td>103    </td> <td>[{\"iso_639_1\": \"en\", \"name\": \"English\"}]                    </td> <td>Released</td> <td>Monsters come in many forms.       </td> <td>6.8         </td> <td>2468      </td> <td>333371  </td> <td>[{\"cast_id\": 2, \"character\": \"Michelle\", \"credit_id\": \"5 ...</td> <td>[{\"credit_id\": \"57627624c3a3680682000872\", \"department\": ...</td>\n",
       "        </tr>\n",
       "    </tbody>\n",
       "</table>\n",
       "<p>... (4806 rows omitted)</p>"
      ],
      "text/plain": [
       "<IPython.core.display.HTML object>"
      ]
     },
     "metadata": {},
     "output_type": "display_data"
    }
   ],
   "source": [
    "m = tmdb_movies.join(\"title\", credits, \"title\")\n",
    "m.show(3)"
   ]
  },
  {
   "cell_type": "markdown",
   "id": "bf46bc82",
   "metadata": {},
   "source": [
    "Because all of the data is in string format, I'll use literal_eval to convert the string data into a list of dictionaries. I'll add the altered features into a new table called movies."
   ]
  },
  {
   "cell_type": "code",
   "execution_count": 171,
   "id": "6994c3c6",
   "metadata": {},
   "outputs": [
    {
     "data": {
      "text/html": [
       "<table border=\"1\" class=\"dataframe\">\n",
       "    <thead>\n",
       "        <tr>\n",
       "            <th>title</th> <th>genres</th> <th>cast</th> <th>crew</th> <th>keywords</th>\n",
       "        </tr>\n",
       "    </thead>\n",
       "    <tbody>\n",
       "        <tr>\n",
       "            <td>#Horror                   </td> <td>[{'id': 18, 'name': 'Drama'}, {'id': 9648, 'name': 'Myst ...</td> <td>[{'cast_id': 0, 'character': \"Alex's 12-Step Friend\", 'c ...</td> <td>[{'credit_id': '545bbac70e0a261fb6002329', 'department': ...</td> <td>[]                                                          </td>\n",
       "        </tr>\n",
       "        <tr>\n",
       "            <td>(500) Days of Summer      </td> <td>[{'id': 35, 'name': 'Comedy'}, {'id': 18, 'name': 'Drama ...</td> <td>[{'cast_id': 4, 'character': 'Tom Hansen', 'credit_id':  ...</td> <td>[{'credit_id': '52fe47f99251416c750abaa5', 'department': ...</td> <td>[{'id': 248, 'name': 'date'}, {'id': 572, 'name': 'sex'} ...</td>\n",
       "        </tr>\n",
       "        <tr>\n",
       "            <td>10 Cloverfield Lane       </td> <td>[{'id': 53, 'name': 'Thriller'}, {'id': 878, 'name': 'Sc ...</td> <td>[{'cast_id': 2, 'character': 'Michelle', 'credit_id': '5 ...</td> <td>[{'credit_id': '57627624c3a3680682000872', 'department': ...</td> <td>[{'id': 1930, 'name': 'kidnapping'}, {'id': 2321, 'name' ...</td>\n",
       "        </tr>\n",
       "        <tr>\n",
       "            <td>10 Days in a Madhouse     </td> <td>[{'id': 18, 'name': 'Drama'}]                               </td> <td>[{'cast_id': 2, 'character': 'Nellie Bly', 'credit_id':  ...</td> <td>[{'credit_id': '594efa1fc3a36832650455ff', 'department': ...</td> <td>[{'id': 1568, 'name': 'undercover'}, {'id': 4924, 'name' ...</td>\n",
       "        </tr>\n",
       "        <tr>\n",
       "            <td>10 Things I Hate About You</td> <td>[{'id': 35, 'name': 'Comedy'}, {'id': 10749, 'name': 'Ro ...</td> <td>[{'cast_id': 2, 'character': 'Patrick Verona', 'credit_i ...</td> <td>[{'credit_id': '52fe43e6c3a36847f807731d', 'department': ...</td> <td>[{'id': 497, 'name': 'shakespeare'}, {'id': 5923, 'name' ...</td>\n",
       "        </tr>\n",
       "        <tr>\n",
       "            <td>102 Dalmatians            </td> <td>[{'id': 35, 'name': 'Comedy'}, {'id': 10751, 'name': 'Fa ...</td> <td>[{'cast_id': 1, 'character': 'Cruella de Vil', 'credit_i ...</td> <td>[{'credit_id': '5539fe5e9251413f5a00359b', 'department': ...</td> <td>[{'id': 212, 'name': 'london england'}, {'id': 378, 'nam ...</td>\n",
       "        </tr>\n",
       "        <tr>\n",
       "            <td>10th & Wolf               </td> <td>[{'id': 28, 'name': 'Action'}, {'id': 80, 'name': 'Crime ...</td> <td>[{'cast_id': 1, 'character': 'Tommy', 'credit_id': '52fe ...</td> <td>[{'credit_id': '52fe454d9251416c75051e59', 'department': ...</td> <td>[{'id': 1568, 'name': 'undercover'}, {'id': 10391, 'name ...</td>\n",
       "        </tr>\n",
       "        <tr>\n",
       "            <td>11:14                     </td> <td>[{'id': 80, 'name': 'Crime'}, {'id': 18, 'name': 'Drama' ...</td> <td>[{'cast_id': 10, 'character': 'Jack', 'credit_id': '52fe ...</td> <td>[{'credit_id': '52fe44e1c3a36847f80af88d', 'department': ...</td> <td>[{'id': 567, 'name': 'alcohol'}, {'id': 572, 'name': 'se ...</td>\n",
       "        </tr>\n",
       "        <tr>\n",
       "            <td>12 Angry Men              </td> <td>[{'id': 18, 'name': 'Drama'}]                               </td> <td>[{'cast_id': 29, 'character': 'Juror 8', 'credit_id': '5 ...</td> <td>[{'credit_id': '52fe423dc3a36847f800ec55', 'department': ...</td> <td>[{'id': 934, 'name': 'judge'}, {'id': 1417, 'name': 'jur ...</td>\n",
       "        </tr>\n",
       "        <tr>\n",
       "            <td>12 Rounds                 </td> <td>[{'id': 28, 'name': 'Action'}, {'id': 12, 'name': 'Adven ...</td> <td>[{'cast_id': 1, 'character': 'Det. Danny Fisher', 'credi ...</td> <td>[{'credit_id': '538ee0730e0a2644b9001141', 'department': ...</td> <td>[{'id': 6149, 'name': 'police'}, {'id': 8233, 'name': 'c ...</td>\n",
       "        </tr>\n",
       "    </tbody>\n",
       "</table>\n",
       "<p>... (4799 rows omitted)</p>"
      ],
      "text/plain": [
       "title                      | genres                                                       | cast                                                         | crew                                                         | keywords\n",
       "#Horror                    | [{'id': 18, 'name': 'Drama'}, {'id': 9648, 'name': 'Myst ... | [{'cast_id': 0, 'character': \"Alex's 12-Step Friend\", 'c ... | [{'credit_id': '545bbac70e0a261fb6002329', 'department': ... | []\n",
       "(500) Days of Summer       | [{'id': 35, 'name': 'Comedy'}, {'id': 18, 'name': 'Drama ... | [{'cast_id': 4, 'character': 'Tom Hansen', 'credit_id':  ... | [{'credit_id': '52fe47f99251416c750abaa5', 'department': ... | [{'id': 248, 'name': 'date'}, {'id': 572, 'name': 'sex'} ...\n",
       "10 Cloverfield Lane        | [{'id': 53, 'name': 'Thriller'}, {'id': 878, 'name': 'Sc ... | [{'cast_id': 2, 'character': 'Michelle', 'credit_id': '5 ... | [{'credit_id': '57627624c3a3680682000872', 'department': ... | [{'id': 1930, 'name': 'kidnapping'}, {'id': 2321, 'name' ...\n",
       "10 Days in a Madhouse      | [{'id': 18, 'name': 'Drama'}]                                | [{'cast_id': 2, 'character': 'Nellie Bly', 'credit_id':  ... | [{'credit_id': '594efa1fc3a36832650455ff', 'department': ... | [{'id': 1568, 'name': 'undercover'}, {'id': 4924, 'name' ...\n",
       "10 Things I Hate About You | [{'id': 35, 'name': 'Comedy'}, {'id': 10749, 'name': 'Ro ... | [{'cast_id': 2, 'character': 'Patrick Verona', 'credit_i ... | [{'credit_id': '52fe43e6c3a36847f807731d', 'department': ... | [{'id': 497, 'name': 'shakespeare'}, {'id': 5923, 'name' ...\n",
       "102 Dalmatians             | [{'id': 35, 'name': 'Comedy'}, {'id': 10751, 'name': 'Fa ... | [{'cast_id': 1, 'character': 'Cruella de Vil', 'credit_i ... | [{'credit_id': '5539fe5e9251413f5a00359b', 'department': ... | [{'id': 212, 'name': 'london england'}, {'id': 378, 'nam ...\n",
       "10th & Wolf                | [{'id': 28, 'name': 'Action'}, {'id': 80, 'name': 'Crime ... | [{'cast_id': 1, 'character': 'Tommy', 'credit_id': '52fe ... | [{'credit_id': '52fe454d9251416c75051e59', 'department': ... | [{'id': 1568, 'name': 'undercover'}, {'id': 10391, 'name ...\n",
       "11:14                      | [{'id': 80, 'name': 'Crime'}, {'id': 18, 'name': 'Drama' ... | [{'cast_id': 10, 'character': 'Jack', 'credit_id': '52fe ... | [{'credit_id': '52fe44e1c3a36847f80af88d', 'department': ... | [{'id': 567, 'name': 'alcohol'}, {'id': 572, 'name': 'se ...\n",
       "12 Angry Men               | [{'id': 18, 'name': 'Drama'}]                                | [{'cast_id': 29, 'character': 'Juror 8', 'credit_id': '5 ... | [{'credit_id': '52fe423dc3a36847f800ec55', 'department': ... | [{'id': 934, 'name': 'judge'}, {'id': 1417, 'name': 'jur ...\n",
       "12 Rounds                  | [{'id': 28, 'name': 'Action'}, {'id': 12, 'name': 'Adven ... | [{'cast_id': 1, 'character': 'Det. Danny Fisher', 'credi ... | [{'credit_id': '538ee0730e0a2644b9001141', 'department': ... | [{'id': 6149, 'name': 'police'}, {'id': 8233, 'name': 'c ...\n",
       "... (4799 rows omitted)"
      ]
     },
     "execution_count": 171,
     "metadata": {},
     "output_type": "execute_result"
    }
   ],
   "source": [
    "features = [\"genres\", \"cast\", \"crew\", \"keywords\"]\n",
    "movies = m.select(\"title\")\n",
    "for feature in features:\n",
    "    movies = movies.with_columns(\n",
    "        feature, m.apply(ast.literal_eval, feature)\n",
    "    )\n",
    "    \n",
    "movies"
   ]
  },
  {
   "cell_type": "markdown",
   "id": "59d275b9",
   "metadata": {},
   "source": [
    "# 2: Creating the recommendation system"
   ]
  },
  {
   "cell_type": "markdown",
   "id": "a29b3ea2",
   "metadata": {},
   "source": [
    "## Method 1: The Vector Space Method\n",
    "\n",
    "We can gauge the similarity of text by changing the text into vectors and getting the angular distance between the vectors using the cosine function. Cosine will give us a similarity value between 0 and 1."
   ]
  },
  {
   "cell_type": "code",
   "execution_count": 7,
   "id": "f3190fc5",
   "metadata": {},
   "outputs": [],
   "source": [
    "from sklearn.feature_extraction.text import CountVectorizer\n",
    "from sklearn.metrics.pairwise import cosine_similarity"
   ]
  },
  {
   "cell_type": "markdown",
   "id": "e3bc26ac",
   "metadata": {},
   "source": [
    "To give an example of how this data analysis is going to work, I've created a list of 4 strings. Some strings share words with each other, some don't. The CountVectorizer function creates a matrix that represents the frequency of each word/feature in each string."
   ]
  },
  {
   "cell_type": "code",
   "execution_count": 8,
   "id": "255d545e",
   "metadata": {},
   "outputs": [
    {
     "name": "stdout",
     "output_type": "stream",
     "text": [
      "['bother', 'expert', 'go', 'happy', 'lucky']\n",
      "[[0 0 1 1 1]\n",
      " [0 0 0 2 1]\n",
      " [1 0 2 1 2]\n",
      " [0 1 1 0 0]]\n"
     ]
    }
   ],
   "source": [
    "text = [\"happy go lucky\", \"happy happy lucky\", \"happy go lucky go lucky bother\", \"expert go\"]\n",
    "\n",
    "count_vector = CountVectorizer()\n",
    "cm = count_vector.fit_transform(text)\n",
    "\n",
    "print(count_vector.get_feature_names())\n",
    "print(cm.toarray())"
   ]
  },
  {
   "cell_type": "markdown",
   "id": "c4db2000",
   "metadata": {},
   "source": [
    "In the first string in \"text\", \"bother\" and \"expert\" appear 0 times. \"go\", \"happy\", and \"lucky\" appear once. The first row of the matrix represent these occurrences: [0 0 1 1 1]. Now, I want to see how similar each of the strings in \"text\" are to each other. That's where I'll use the cosine_similarity function."
   ]
  },
  {
   "cell_type": "code",
   "execution_count": 9,
   "id": "b631c040",
   "metadata": {},
   "outputs": [
    {
     "data": {
      "text/plain": [
       "array([[ 1.        ,  0.77459667,  0.91287093,  0.40824829],\n",
       "       [ 0.77459667,  1.        ,  0.56568542,  0.        ],\n",
       "       [ 0.91287093,  0.56568542,  1.        ,  0.4472136 ],\n",
       "       [ 0.40824829,  0.        ,  0.4472136 ,  1.        ]])"
      ]
     },
     "execution_count": 9,
     "metadata": {},
     "output_type": "execute_result"
    }
   ],
   "source": [
    "similarity_scores = cosine_similarity(cm)\n",
    "similarity_scores"
   ]
  },
  {
   "cell_type": "markdown",
   "id": "e1511d6c",
   "metadata": {},
   "source": [
    "The similarity score ranges from 0 to 1, with 0 being least similar and 1 being identical. Here's an easier way to visualize similarity_scores:\n",
    "\n",
    "        text[0]   text[1]  text[2]    text[3]\n",
    "text[0] [ 1.00000000,  0.77459667,  0.91287093,  0.40824829]\n",
    "\n",
    "text[1] [ 0.77459667,  1.00000000,  0.56568542,  0.00000000]\n",
    "\n",
    "text[2] [ 0.91287093,  0.56568542,  1.00000000,  0.4472136 ]\n",
    "\n",
    "text[3] [ 0.40824829,  0.00000000,  0.4472136 ,  1.00000000]\n",
    "\n"
   ]
  },
  {
   "cell_type": "markdown",
   "id": "6f5bdb16",
   "metadata": {},
   "source": [
    "Text[0] is identical to itself, hence the similarity score of 1.\n",
    "\n",
    "I want to make the data in my dataset to emulate the format of \"text\": a list of strings where each keyword is lowercase and separated by a space. This way, I can run the CountVectorizer and cosine_similarity functions at a larger scale, and can find how similar each movie is to one another based by the keywords of each movie. I will extract these keywords from the \"genres\", \"cast\", \"crew\", and \"keywords\" columns from the table.\n",
    "\n",
    "I'll extract the director of each movie from the \"crew\" column to add another keyword for comparison. As of now, the data is formatted in lists of dictionaries. The \"director\" and \"relevant_data\" functions extract the data and format it similarly to the \"text\" list."
   ]
  },
  {
   "cell_type": "code",
   "execution_count": 10,
   "id": "aaef0e09",
   "metadata": {},
   "outputs": [],
   "source": [
    "def director(array):\n",
    "    for dic in array:\n",
    "        if dic[\"job\"] == \"Director\":\n",
    "            # make each string lowercase while removing the space between the first and last name.\n",
    "            # removing the space creates one string per person\n",
    "            return str.lower(dic[\"name\"]).replace(\" \", \"\")\n",
    "\n",
    "def relevant_data(array):\n",
    "    # returns the first 5 keywords in the array. If len(array) < 5, it returns the whole array.\n",
    "    names = make_array()\n",
    "    for i in range(len(array)):\n",
    "        lowercase_name = str.lower(array[i][\"name\"]).replace(\" \", \"\")\n",
    "        if lowercase_name not in names:\n",
    "            names = np.append(names, lowercase_name)\n",
    "    if len(names) > 5:\n",
    "        return names[:5]\n",
    "    else:\n",
    "        return names"
   ]
  },
  {
   "cell_type": "markdown",
   "id": "ee2e23ef",
   "metadata": {},
   "source": [
    "The new_movies table contains the reformatted data."
   ]
  },
  {
   "cell_type": "code",
   "execution_count": 14,
   "id": "f21b9ce5",
   "metadata": {},
   "outputs": [
    {
     "data": {
      "text/html": [
       "<table border=\"1\" class=\"dataframe\">\n",
       "    <thead>\n",
       "        <tr>\n",
       "            <th>title</th> <th>director</th> <th>genres</th> <th>cast</th> <th>crew</th> <th>keywords</th>\n",
       "        </tr>\n",
       "    </thead>\n",
       "    <tbody>\n",
       "        <tr>\n",
       "            <td>#Horror                   </td> <td>tarasubkoff    </td> <td>['drama' 'mystery' 'horror' 'thriller']        </td> <td>['tarynmanning' 'natashalyonne' 'chloësevigny' 'balthaza ...</td> <td>['tarasubkoff' 'jasonludman' 'orensegal' 'brendanwalsh']    </td> <td>[]                                                          </td>\n",
       "        </tr>\n",
       "        <tr>\n",
       "            <td>(500) Days of Summer      </td> <td>marcwebb       </td> <td>['comedy' 'drama' 'romance']                   </td> <td>['josephgordon-levitt' 'zooeydeschanel' 'chloëgracemoret ...</td> <td>['mychaeldanna' 'hopehanafin' 'stevenj.wolfe' 'masonnovi ...</td> <td>['date' 'sex' 'jealousy' 'fight' 'architect']               </td>\n",
       "        </tr>\n",
       "        <tr>\n",
       "            <td>10 Cloverfield Lane       </td> <td>dantrachtenberg</td> <td>['thriller' 'sciencefiction' 'drama']          </td> <td>['maryelizabethwinstead' 'johngoodman' 'johngallagherjr. ...</td> <td>['monikamikkelsen' 'j.j.abrams' 'mattheww.mungle' 'jeffc ...</td> <td>['kidnapping' 'bunker' 'paranoia' 'basement' 'survivalist'] </td>\n",
       "        </tr>\n",
       "        <tr>\n",
       "            <td>10 Days in a Madhouse     </td> <td>timothyhines   </td> <td>['drama']                                      </td> <td>['carolinebarry' 'christopherlambert' 'kellylebrock' 'ju ...</td> <td>['martinwiley' 'janglaser' 'strathfordhamilton' 'marcyle ...</td> <td>['undercover' 'insaneasylum' 'reporter']                    </td>\n",
       "        </tr>\n",
       "        <tr>\n",
       "            <td>10 Things I Hate About You</td> <td>giljunger      </td> <td>['comedy' 'romance' 'drama']                   </td> <td>['heathledger' 'juliastiles' 'josephgordon-levitt' 'lari ...</td> <td>['charlesgraffeo' 'williamshakespeare' 'markirwin' 'o.ni ...</td> <td>['shakespeare' 'sister' 'highschool' 'cannabis' 'deception']</td>\n",
       "        </tr>\n",
       "        <tr>\n",
       "            <td>102 Dalmatians            </td> <td>kevinlima      </td> <td>['comedy' 'family']                            </td> <td>['glennclose' 'ioangruffudd' 'aliceevans' 'timmcinnerny' ...</td> <td>['davidnewman' 'adrianbiddle' 'kevinlima' 'gregoryperler ...</td> <td>['londonengland' 'prison' 'releasefromprison' \"women'spr ...</td>\n",
       "        </tr>\n",
       "        <tr>\n",
       "            <td>10th & Wolf               </td> <td>robertmoresco  </td> <td>['action' 'crime' 'drama' 'mystery' 'thriller']</td> <td>['jamesmarsden' 'briandennehy' 'leorossi' 'dennishopper' ...</td> <td>['robertmoresco' 'allansteele']                             </td> <td>['undercover' 'mafia' 'mobster' 'crimefamily']              </td>\n",
       "        </tr>\n",
       "        <tr>\n",
       "            <td>11:14                     </td> <td>gregmarcks     </td> <td>['crime' 'drama' 'thriller']                   </td> <td>['henrythomas' 'blakeheron' 'barbarahershey' 'hilaryswan ...</td> <td>['hilaryswank' 'johnmorrissey' 'maryvernieu' 'clintmanse ...</td> <td>['alcohol' 'sex' 'robbery' 'secret' 'gun']                  </td>\n",
       "        </tr>\n",
       "        <tr>\n",
       "            <td>12 Angry Men              </td> <td>sidneylumet    </td> <td>['drama']                                      </td> <td>['henryfonda' 'martinbalsam' 'johnfiedler' 'leej.cobb' ' ...</td> <td>['henryfonda' 'sidneylumet' 'reginaldrose' 'georgejustin ...</td> <td>['judge' 'jurors' 'sultriness' 'deathpenalty' 'fathermur ...</td>\n",
       "        </tr>\n",
       "        <tr>\n",
       "            <td>12 Rounds                 </td> <td>rennyharlin    </td> <td>['action' 'adventure' 'drama' 'thriller']      </td> <td>['johncena' 'aidangillen' 'ashleyscott' 'steveharris' 'b ...</td> <td>['johnpapsidera' 'trevorrabin' 'brianberdan' 'markgordon ...</td> <td>['police' 'cops' 'catandmouse' 'family' 'revengedrama']     </td>\n",
       "        </tr>\n",
       "    </tbody>\n",
       "</table>\n",
       "<p>... (4799 rows omitted)</p>"
      ],
      "text/plain": [
       "title                      | director        | genres                                          | cast                                                         | crew                                                         | keywords\n",
       "#Horror                    | tarasubkoff     | ['drama' 'mystery' 'horror' 'thriller']         | ['tarynmanning' 'natashalyonne' 'chloësevigny' 'balthaza ... | ['tarasubkoff' 'jasonludman' 'orensegal' 'brendanwalsh']     | []\n",
       "(500) Days of Summer       | marcwebb        | ['comedy' 'drama' 'romance']                    | ['josephgordon-levitt' 'zooeydeschanel' 'chloëgracemoret ... | ['mychaeldanna' 'hopehanafin' 'stevenj.wolfe' 'masonnovi ... | ['date' 'sex' 'jealousy' 'fight' 'architect']\n",
       "10 Cloverfield Lane        | dantrachtenberg | ['thriller' 'sciencefiction' 'drama']           | ['maryelizabethwinstead' 'johngoodman' 'johngallagherjr. ... | ['monikamikkelsen' 'j.j.abrams' 'mattheww.mungle' 'jeffc ... | ['kidnapping' 'bunker' 'paranoia' 'basement' 'survivalist']\n",
       "10 Days in a Madhouse      | timothyhines    | ['drama']                                       | ['carolinebarry' 'christopherlambert' 'kellylebrock' 'ju ... | ['martinwiley' 'janglaser' 'strathfordhamilton' 'marcyle ... | ['undercover' 'insaneasylum' 'reporter']\n",
       "10 Things I Hate About You | giljunger       | ['comedy' 'romance' 'drama']                    | ['heathledger' 'juliastiles' 'josephgordon-levitt' 'lari ... | ['charlesgraffeo' 'williamshakespeare' 'markirwin' 'o.ni ... | ['shakespeare' 'sister' 'highschool' 'cannabis' 'deception']\n",
       "102 Dalmatians             | kevinlima       | ['comedy' 'family']                             | ['glennclose' 'ioangruffudd' 'aliceevans' 'timmcinnerny' ... | ['davidnewman' 'adrianbiddle' 'kevinlima' 'gregoryperler ... | ['londonengland' 'prison' 'releasefromprison' \"women'spr ...\n",
       "10th & Wolf                | robertmoresco   | ['action' 'crime' 'drama' 'mystery' 'thriller'] | ['jamesmarsden' 'briandennehy' 'leorossi' 'dennishopper' ... | ['robertmoresco' 'allansteele']                              | ['undercover' 'mafia' 'mobster' 'crimefamily']\n",
       "11:14                      | gregmarcks      | ['crime' 'drama' 'thriller']                    | ['henrythomas' 'blakeheron' 'barbarahershey' 'hilaryswan ... | ['hilaryswank' 'johnmorrissey' 'maryvernieu' 'clintmanse ... | ['alcohol' 'sex' 'robbery' 'secret' 'gun']\n",
       "12 Angry Men               | sidneylumet     | ['drama']                                       | ['henryfonda' 'martinbalsam' 'johnfiedler' 'leej.cobb' ' ... | ['henryfonda' 'sidneylumet' 'reginaldrose' 'georgejustin ... | ['judge' 'jurors' 'sultriness' 'deathpenalty' 'fathermur ...\n",
       "12 Rounds                  | rennyharlin     | ['action' 'adventure' 'drama' 'thriller']       | ['johncena' 'aidangillen' 'ashleyscott' 'steveharris' 'b ... | ['johnpapsidera' 'trevorrabin' 'brianberdan' 'markgordon ... | ['police' 'cops' 'catandmouse' 'family' 'revengedrama']\n",
       "... (4799 rows omitted)"
      ]
     },
     "execution_count": 14,
     "metadata": {},
     "output_type": "execute_result"
    }
   ],
   "source": [
    "new_movies = movies.select('title').with_column(\"director\", movies.apply(director, \"crew\"))\n",
    "for feature in features:\n",
    "    new_movies = new_movies.with_columns(\n",
    "        feature, movies.apply(relevant_data, feature)\n",
    "    )\n",
    "    \n",
    "new_movies"
   ]
  },
  {
   "cell_type": "markdown",
   "id": "39a1c456",
   "metadata": {},
   "source": [
    "Now that I have the reformatted data through new_movies, I'll combine the data of each row into one string and compile those strings into an array/list. The array/list will be a much larger version of \"text\"."
   ]
  },
  {
   "cell_type": "code",
   "execution_count": 32,
   "id": "091ddf1b",
   "metadata": {},
   "outputs": [
    {
     "data": {
      "text/html": [
       "<table border=\"1\" class=\"dataframe\">\n",
       "    <thead>\n",
       "        <tr>\n",
       "            <th>title</th> <th>director</th> <th>genres</th> <th>cast</th> <th>crew</th> <th>keywords</th> <th>combined data</th> <th>index</th>\n",
       "        </tr>\n",
       "    </thead>\n",
       "    <tbody>\n",
       "        <tr>\n",
       "            <td>#Horror             </td> <td>tarasubkoff    </td> <td>['drama' 'mystery' 'horror' 'thriller']</td> <td>['tarynmanning' 'natashalyonne' 'chloësevigny' 'balthaza ...</td> <td>['tarasubkoff' 'jasonludman' 'orensegal' 'brendanwalsh']    </td> <td>[]                                                         </td> <td>tarasubkoff drama mystery horror thriller tarynmanning n ...</td> <td>0    </td>\n",
       "        </tr>\n",
       "        <tr>\n",
       "            <td>(500) Days of Summer</td> <td>marcwebb       </td> <td>['comedy' 'drama' 'romance']           </td> <td>['josephgordon-levitt' 'zooeydeschanel' 'chloëgracemoret ...</td> <td>['mychaeldanna' 'hopehanafin' 'stevenj.wolfe' 'masonnovi ...</td> <td>['date' 'sex' 'jealousy' 'fight' 'architect']              </td> <td>marcwebb comedy drama romance josephgordon-levitt zooeyd ...</td> <td>1    </td>\n",
       "        </tr>\n",
       "        <tr>\n",
       "            <td>10 Cloverfield Lane </td> <td>dantrachtenberg</td> <td>['thriller' 'sciencefiction' 'drama']  </td> <td>['maryelizabethwinstead' 'johngoodman' 'johngallagherjr. ...</td> <td>['monikamikkelsen' 'j.j.abrams' 'mattheww.mungle' 'jeffc ...</td> <td>['kidnapping' 'bunker' 'paranoia' 'basement' 'survivalist']</td> <td>dantrachtenberg thriller sciencefiction drama maryelizab ...</td> <td>2    </td>\n",
       "        </tr>\n",
       "    </tbody>\n",
       "</table>\n",
       "<p>... (4806 rows omitted)</p>"
      ],
      "text/plain": [
       "<IPython.core.display.HTML object>"
      ]
     },
     "metadata": {},
     "output_type": "display_data"
    }
   ],
   "source": [
    "new_features = [\"director\", \"genres\", \"cast\", \"crew\", \"keywords\"]\n",
    "\n",
    "cd_column = []\n",
    "for row in new_movies.rows:\n",
    "    # I want to get the data from each row into one string excluding the title, represented by cd_string\n",
    "    cd_string = \"\"\n",
    "    for feature in new_features:\n",
    "        data = row.item(feature)\n",
    "        \n",
    "        # if the data is string format, directly add the string data to the cd_string\n",
    "        if isinstance(data, str):\n",
    "            cd_string += data + \" \"\n",
    "        \n",
    "        # if the data is a numpy array of strings, iterate through the array and add the strings to cd_string\n",
    "        elif isinstance(data, np.ndarray):\n",
    "            for string in data:\n",
    "                cd_string += string + \" \"\n",
    "    # append each row's data(cd_string) into a list that I'll place in the table\n",
    "    cd_column.append(cd_string)\n",
    "\n",
    "\n",
    "fmovies = new_movies.with_columns(\n",
    "    \"combined data\", cd_column,\n",
    "    \"index\", np.arange(fmovies.num_rows) # Creating an index will help me traverse through the similarity matrix\n",
    ")\n",
    "fmovies.show(3)"
   ]
  },
  {
   "cell_type": "markdown",
   "id": "d39f9a56",
   "metadata": {},
   "source": [
    "It's time to apply the functions to the combined data column."
   ]
  },
  {
   "cell_type": "markdown",
   "id": "148cefa8",
   "metadata": {},
   "source": [
    "Here is the movie recommender function:"
   ]
  },
  {
   "cell_type": "code",
   "execution_count": 169,
   "id": "ee6b0e83",
   "metadata": {},
   "outputs": [
    {
     "data": {
      "text/plain": [
       "[(1, 'Die Hard 2'),\n",
       " (2, 'Die Hard: With a Vengeance'),\n",
       " (3, 'Predator'),\n",
       " (4, 'Commando'),\n",
       " (5, 'Rollerball'),\n",
       " (6, 'The Hunt for Red October'),\n",
       " (7, 'Basic'),\n",
       " (8, 'Road House'),\n",
       " (9, 'The 13th Warrior'),\n",
       " (10, 'Last Action Hero')]"
      ]
     },
     "execution_count": 169,
     "metadata": {},
     "output_type": "execute_result"
    }
   ],
   "source": [
    "def recommend(movie, table):\n",
    "    \"\"\"\n",
    "    Recommends 5 movies based on similarity scores with other movies.\n",
    "    \"\"\"\n",
    "    # Create the similarity matrix\n",
    "    movie_index = table.where(\"title\", movie)[7][0]\n",
    "    count_matrix = count_vector.fit_transform(table.column(\"combined data\"))\n",
    "    similarity = cosine_similarity(count_matrix)\n",
    "    \n",
    "    # Find the movie's row in the similarity matrix and sort it in descending order\n",
    "    movie_sim_scores = list(enumerate(similarity[movie_index]))\n",
    "    sorted_ms = sorted(movie_sim_scores, key=lambda x: x[1], reverse=True)[1:11]\n",
    "    \n",
    "    # Based on the indexes sorted_ms gives, add the recommended movies to recommended_movies.\n",
    "    recommended_movies = []\n",
    "    for tup in sorted_ms:\n",
    "        recommended_movies.append(fmovies.where(\"index\", tup[0])[0][0])\n",
    "        \n",
    "    return list(enumerate(recommended_movies, 1))\n",
    "\n",
    "\n",
    "recommend(\"Die Hard\", fmovies)"
   ]
  },
  {
   "cell_type": "markdown",
   "id": "0bbb89e4",
   "metadata": {},
   "source": [
    "Here are some more examples of movie recommendations:"
   ]
  },
  {
   "cell_type": "code",
   "execution_count": 170,
   "id": "e39d8e54",
   "metadata": {},
   "outputs": [
    {
     "data": {
      "text/plain": [
       "[(1, 'Legends of the Fall'),\n",
       " (2, 'Alexander'),\n",
       " (3, 'The NeverEnding Story'),\n",
       " (4, 'Das Boot'),\n",
       " (5, 'Fury'),\n",
       " (6, 'Clash of the Titans'),\n",
       " (7, 'Entrapment'),\n",
       " (8, 'Kingdom of Heaven'),\n",
       " (9, 'Poseidon'),\n",
       " (10, 'End of the Spear')]"
      ]
     },
     "execution_count": 170,
     "metadata": {},
     "output_type": "execute_result"
    }
   ],
   "source": [
    "recommend(\"Troy\", fmovies)"
   ]
  },
  {
   "cell_type": "code",
   "execution_count": 160,
   "id": "ea45d962",
   "metadata": {},
   "outputs": [
    {
     "data": {
      "text/plain": [
       "[(1, 'Transformers: Revenge of the Fallen'),\n",
       " (2, 'Transformers: Age of Extinction'),\n",
       " (3, 'Transformers: Dark of the Moon'),\n",
       " (4, 'The Island'),\n",
       " (5, 'I Am Number Four'),\n",
       " (6, 'Teenage Mutant Ninja Turtles'),\n",
       " (7, 'The Helix... Loaded'),\n",
       " (8, 'Green Lantern'),\n",
       " (9, 'Indiana Jones and the Kingdom of the Crystal Skull'),\n",
       " (10, 'Teenage Mutant Ninja Turtles: Out of the Shadows')]"
      ]
     },
     "execution_count": 160,
     "metadata": {},
     "output_type": "execute_result"
    }
   ],
   "source": [
    "recommend(\"Transformers\", fmovies)"
   ]
  },
  {
   "cell_type": "code",
   "execution_count": 167,
   "id": "28480592",
   "metadata": {},
   "outputs": [
    {
     "data": {
      "text/plain": [
       "[(1, 'Indiana Jones and the Kingdom of the Crystal Skull'),\n",
       " (2, 'Indiana Jones and the Last Crusade'),\n",
       " (3, 'Raiders of the Lost Ark'),\n",
       " (4, 'The Adventures of Tintin'),\n",
       " (5, 'Jurassic Park'),\n",
       " (6, 'The Lost World: Jurassic Park'),\n",
       " (7, '1941'),\n",
       " (8, 'The BFG'),\n",
       " (9, 'War of the Worlds'),\n",
       " (10, 'A.I. Artificial Intelligence')]"
      ]
     },
     "execution_count": 167,
     "metadata": {},
     "output_type": "execute_result"
    }
   ],
   "source": [
    "recommend(\"Indiana Jones and the Temple of Doom\", fmovies)"
   ]
  },
  {
   "cell_type": "code",
   "execution_count": 168,
   "id": "83929f06",
   "metadata": {},
   "outputs": [
    {
     "data": {
      "text/plain": [
       "[(1, \"Amidst the Devil's Wings\"),\n",
       " (2, 'Out of the Furnace'),\n",
       " (3, 'Cecil B. Demented'),\n",
       " (4, 'The House of Mirth'),\n",
       " (5, 'The Silence of the Lambs'),\n",
       " (6, 'The Spanish Prisoner'),\n",
       " (7, 'Trash'),\n",
       " (8, 'Fabled'),\n",
       " (9, 'A Walk on the Moon'),\n",
       " (10, 'Assault on Precinct 13')]"
      ]
     },
     "execution_count": 168,
     "metadata": {},
     "output_type": "execute_result"
    }
   ],
   "source": [
    "recommend(\"American Psycho\", fmovies)"
   ]
  }
 ],
 "metadata": {
  "kernelspec": {
   "display_name": "Python 3 (ipykernel)",
   "language": "python",
   "name": "python3"
  },
  "language_info": {
   "codemirror_mode": {
    "name": "ipython",
    "version": 3
   },
   "file_extension": ".py",
   "mimetype": "text/x-python",
   "name": "python",
   "nbconvert_exporter": "python",
   "pygments_lexer": "ipython3",
   "version": "3.9.12"
  }
 },
 "nbformat": 4,
 "nbformat_minor": 5
}
